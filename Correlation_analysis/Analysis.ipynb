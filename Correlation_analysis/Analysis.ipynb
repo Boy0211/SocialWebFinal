{
 "cells": [
  {
   "cell_type": "code",
   "execution_count": 9,
   "id": "8eb5915a",
   "metadata": {},
   "outputs": [],
   "source": [
    "import pandas as pd\n",
    "import numpy as np\n",
    "import matplotlib.pyplot as plt"
   ]
  },
  {
   "cell_type": "code",
   "execution_count": 176,
   "id": "da728889",
   "metadata": {},
   "outputs": [],
   "source": [
    "tweets = pd.read_csv('/Users/romanpeerboom/Documents/GitHub/SocialWebFinal/data/output/final_with_states_codes.csv')\n",
    "vaccs = pd.read_csv('/Users/romanpeerboom/Documents/GitHub/SocialWebFinal/data/output/Vaccinations_us_first')\n",
    "elections = pd.read_csv('/Users/romanpeerboom/Downloads/1976-2020-president.csv')##\n",
    "\n",
    "##later nog kijken naar hoe sentiment zich ontwikkeld door de tijd"
   ]
  },
  {
   "cell_type": "code",
   "execution_count": 201,
   "id": "cdfba312",
   "metadata": {},
   "outputs": [],
   "source": [
    "tweets_grouped = tweets.groupby(['State']).mean()\n",
    "\n",
    "tweets_grouped = tweets_grouped.sort_values(by = ['score'])\n",
    "tweets_grouped.reset_index(level=0, inplace=True)\n",
    "tweets_grouped.loc[22, 'State'] = 'DC'\n",
    "states = tweets_grouped['State'].tolist()"
   ]
  },
  {
   "cell_type": "code",
   "execution_count": 202,
   "id": "68fdbc50",
   "metadata": {},
   "outputs": [
    {
     "data": {
      "text/plain": [
       "['MT', 'KS', 'LA', 'NY', 'MD']"
      ]
     },
     "execution_count": 202,
     "metadata": {},
     "output_type": "execute_result"
    }
   ],
   "source": [
    "low_states = states[:5]\n",
    "high_states = states[-5:]\n",
    "low_states\n"
   ]
  },
  {
   "cell_type": "code",
   "execution_count": 203,
   "id": "5fa23f7c",
   "metadata": {},
   "outputs": [],
   "source": [
    "low_states_vaccs = vaccs.loc[vaccs['Location'].isin(low_states)]\n",
    "high_states_vaccs = vaccs.loc[vaccs['Location'].isin(high_states)]\n",
    "\n"
   ]
  },
  {
   "cell_type": "code",
   "execution_count": 204,
   "id": "936d6563",
   "metadata": {},
   "outputs": [],
   "source": [
    "dates = vaccs['Date'].unique().tolist()\n",
    "dates.reverse()"
   ]
  },
  {
   "cell_type": "code",
   "execution_count": 205,
   "id": "85e632f6",
   "metadata": {},
   "outputs": [
    {
     "name": "stdout",
     "output_type": "stream",
     "text": [
      "[1955, 9931, 26636, 49989, 71735, 81256, 88088, 91210, 95652, 101982, 111515, 124227]\n",
      "[2497, 17719, 47950, 95001, 141632, 161194, 173616, 184227, 195855, 208140, 226742, 251630]\n",
      "[3501, 27682, 71108, 138092, 199922, 227692, 246328, 263049, 286392, 305653, 331799, 364215]\n",
      "[4676, 37591, 93497, 186379, 281442, 328997, 358652, 381268, 411967, 439118, 474064, 518563]\n",
      "[5629, 46329, 116061, 234052, 361824, 430940, 472640, 500677, 537912, 571103, 615800, 675682]\n"
     ]
    }
   ],
   "source": [
    "statelist_low = [0]*len(dates)\n",
    "for state in low_states:\n",
    "    state_vac = vaccs.loc[vaccs['Location'] == state]\n",
    "    for i in range(len(dates)):\n",
    "        value = (state_vac.loc[state_vac['Date'] == dates[i]]['Admin_Per_100K'].iloc[0])\n",
    "        statelist_low[i] += value\n",
    "    print(statelist_low)"
   ]
  },
  {
   "cell_type": "code",
   "execution_count": null,
   "id": "33d9f30e",
   "metadata": {},
   "outputs": [],
   "source": []
  },
  {
   "cell_type": "code",
   "execution_count": 206,
   "id": "e002934a",
   "metadata": {},
   "outputs": [
    {
     "name": "stdout",
     "output_type": "stream",
     "text": [
      "[2965, 14526, 29800, 50018, 65986, 73511, 79259, 83021, 84545, 86681, 88773, 94374]\n",
      "[4072, 23863, 53303, 95562, 138098, 161143, 177561, 188371, 200840, 211639, 222223, 238789]\n",
      "[5717, 34105, 77838, 143247, 216350, 258787, 285285, 300966, 319583, 336488, 357304, 388879]\n",
      "[8245, 47159, 109146, 198293, 290556, 339432, 369676, 388181, 411154, 434231, 463750, 506895]\n",
      "[9430, 57305, 136228, 244984, 352451, 407791, 442805, 465518, 493836, 524236, 562101, 616618]\n"
     ]
    }
   ],
   "source": [
    "statelist_high = [0]*len(dates)\n",
    "for state in high_states:\n",
    "    state_vac = vaccs.loc[vaccs['Location'] == state]\n",
    "    for i in range(len(dates)):\n",
    "        value = (state_vac.loc[state_vac['Date'] == dates[i]]['Admin_Per_100K'].iloc[0])\n",
    "        statelist_high[i] += value\n",
    "    print(statelist_high)"
   ]
  },
  {
   "cell_type": "code",
   "execution_count": 207,
   "id": "5a709589",
   "metadata": {},
   "outputs": [
    {
     "data": {
      "text/plain": [
       "[<matplotlib.lines.Line2D at 0x7ff0b29dde20>]"
      ]
     },
     "execution_count": 207,
     "metadata": {},
     "output_type": "execute_result"
    },
    {
     "data": {
      "image/png": "[encoded data removed]",
      "text/plain": [
       "<Figure size 432x288 with 1 Axes>"
      ]
     },
     "metadata": {
      "needs_background": "light"
     },
     "output_type": "display_data"
    }
   ],
   "source": [
    "plt.plot(dates, statelist_high, color = 'r')\n",
    "plt.plot(dates, statelist_low)"
   ]
  },
  {
   "cell_type": "code",
   "execution_count": 208,
   "id": "3bc91680",
   "metadata": {},
   "outputs": [],
   "source": [
    "elections = elections.loc[elections['year'] == 2020]\n",
    "elections_dem  = elections.loc[elections['party_detailed'] == 'DEMOCRAT']\n",
    "elections_rep  = elections.loc[elections['party_detailed'] == 'REPUBLICAN']\n",
    "elections_dem.reset_index(level=0, inplace=True)\n",
    "elections_rep.reset_index(level=0, inplace=True)\n",
    "elect_results = pd.DataFrame()\n",
    "elect_results['State'] = states\n",
    "elect_results['Winner'] = 'DEM'\n",
    "elect_results['Prc_dem'] = 0\n"
   ]
  },
  {
   "cell_type": "code",
   "execution_count": 209,
   "id": "a598b0d8",
   "metadata": {},
   "outputs": [],
   "source": [
    "for i in range(len(states)):\n",
    "    if elections_dem.loc[i, 'candidatevotes'] < elections_rep.loc[i, 'candidatevotes']:\n",
    "        elect_results.loc[i, 'Winner'] = 'REP'\n",
    "    elect_results.loc[i, 'Prc_dem'] = elections_dem.loc[i, 'candidatevotes']/ elections_dem.loc[i, 'totalvotes']"
   ]
  },
  {
   "cell_type": "code",
   "execution_count": 210,
   "id": "ca5264cd",
   "metadata": {},
   "outputs": [
    {
     "data": {
      "text/plain": [
       "['WV', 'FL', 'CO', 'ND', 'WY']"
      ]
     },
     "execution_count": 210,
     "metadata": {},
     "output_type": "execute_result"
    }
   ],
   "source": [
    "high_states"
   ]
  },
  {
   "cell_type": "code",
   "execution_count": 211,
   "id": "190c6359",
   "metadata": {},
   "outputs": [],
   "source": [
    "high_score = 0\n",
    "for state in high_states:\n",
    "    state_elect = elect_results.loc[elect_results['State'] == state]\n",
    "    high_score += float(state_elect['Prc_dem'])"
   ]
  },
  {
   "cell_type": "code",
   "execution_count": 212,
   "id": "42465c95",
   "metadata": {},
   "outputs": [],
   "source": [
    "low_score = 0\n",
    "for state in low_states:\n",
    "    state_elect = elect_results.loc[elect_results['State'] == state]\n",
    "    low_score += float(state_elect['Prc_dem'])\n",
    "    "
   ]
  },
  {
   "cell_type": "code",
   "execution_count": 219,
   "id": "93012a45",
   "metadata": {},
   "outputs": [
    {
     "name": "stdout",
     "output_type": "stream",
     "text": [
      "2.176137429770433\n",
      "2.2696564194439794\n"
     ]
    }
   ],
   "source": [
    "print(high_score)\n",
    "print(low_score)"
   ]
  },
  {
   "cell_type": "code",
   "execution_count": 214,
   "id": "ce94ff82",
   "metadata": {},
   "outputs": [],
   "source": [
    "tweets_high = tweets.loc[tweets['State'].isin(high_states)]\n",
    "tweets_high.reset_index(level=0, inplace=True)"
   ]
  },
  {
   "cell_type": "code",
   "execution_count": 215,
   "id": "c0623365",
   "metadata": {},
   "outputs": [
    {
     "name": "stderr",
     "output_type": "stream",
     "text": [
      "<ipython-input-215-dbd880c44132>:1: SettingWithCopyWarning: \n",
      "A value is trying to be set on a copy of a slice from a DataFrame.\n",
      "Try using .loc[row_indexer,col_indexer] = value instead\n",
      "\n",
      "See the caveats in the documentation: https://pandas.pydata.org/pandas-docs/stable/user_guide/indexing.html#returning-a-view-versus-a-copy\n",
      "  tweets_high['month'] = np.nan\n",
      "/opt/anaconda3/lib/python3.8/site-packages/pandas/core/indexing.py:1817: SettingWithCopyWarning: \n",
      "A value is trying to be set on a copy of a slice from a DataFrame.\n",
      "Try using .loc[row_indexer,col_indexer] = value instead\n",
      "\n",
      "See the caveats in the documentation: https://pandas.pydata.org/pandas-docs/stable/user_guide/indexing.html#returning-a-view-versus-a-copy\n",
      "  self._setitem_single_column(loc, value, pi)\n"
     ]
    },
    {
     "data": {
      "text/plain": [
       "[<matplotlib.lines.Line2D at 0x7ff0b8852880>]"
      ]
     },
     "execution_count": 215,
     "metadata": {},
     "output_type": "execute_result"
    },
    {
     "data": {
      "image/png": "[encoded data removed]",
      "text/plain": [
       "<Figure size 432x288 with 1 Axes>"
      ]
     },
     "metadata": {
      "needs_background": "light"
     },
     "output_type": "display_data"
    }
   ],
   "source": [
    "tweets_high['month'] = np.nan\n",
    "for i in range(len(tweets_high)):\n",
    "    tweets_high.loc[i, 'month'] = tweets_high.loc[i, 'date'][:7]\n",
    "\n",
    "tweets_month_high = tweets_high.groupby(['month']).mean()\n",
    "#tweets_month = tweets_month.sort_values(by = ['score'])\n",
    "tweets_month_high.reset_index(level=0, inplace=True)\n",
    "plt.plot(tweets_month_high['month'][:-1], tweets_month_high['score'].tolist()[:-1])\n"
   ]
  },
  {
   "cell_type": "code",
   "execution_count": null,
   "id": "87ca5243",
   "metadata": {},
   "outputs": [],
   "source": []
  },
  {
   "cell_type": "code",
   "execution_count": 216,
   "id": "96ab8265",
   "metadata": {},
   "outputs": [],
   "source": [
    "tweets_low = tweets.loc[tweets['State'].isin(low_states)]\n",
    "tweets_low.reset_index(level=0, inplace=True)"
   ]
  },
  {
   "cell_type": "code",
   "execution_count": 217,
   "id": "8f670aaf",
   "metadata": {},
   "outputs": [
    {
     "name": "stderr",
     "output_type": "stream",
     "text": [
      "<ipython-input-217-d64103b24489>:1: SettingWithCopyWarning: \n",
      "A value is trying to be set on a copy of a slice from a DataFrame.\n",
      "Try using .loc[row_indexer,col_indexer] = value instead\n",
      "\n",
      "See the caveats in the documentation: https://pandas.pydata.org/pandas-docs/stable/user_guide/indexing.html#returning-a-view-versus-a-copy\n",
      "  tweets_low['month'] = np.nan\n",
      "/opt/anaconda3/lib/python3.8/site-packages/pandas/core/indexing.py:1817: SettingWithCopyWarning: \n",
      "A value is trying to be set on a copy of a slice from a DataFrame.\n",
      "Try using .loc[row_indexer,col_indexer] = value instead\n",
      "\n",
      "See the caveats in the documentation: https://pandas.pydata.org/pandas-docs/stable/user_guide/indexing.html#returning-a-view-versus-a-copy\n",
      "  self._setitem_single_column(loc, value, pi)\n"
     ]
    },
    {
     "data": {
      "text/plain": [
       "[<matplotlib.lines.Line2D at 0x7ff0b6ca6cd0>]"
      ]
     },
     "execution_count": 217,
     "metadata": {},
     "output_type": "execute_result"
    },
    {
     "data": {
      "image/png": "[encoded data removed]",
      "text/plain": [
       "<Figure size 432x288 with 1 Axes>"
      ]
     },
     "metadata": {
      "needs_background": "light"
     },
     "output_type": "display_data"
    }
   ],
   "source": [
    "tweets_low['month'] = np.nan\n",
    "for i in range(len(tweets_low)):\n",
    "    tweets_low.loc[i, 'month'] = tweets_low.loc[i, 'date'][:7]\n",
    "\n",
    "tweets_month_low = tweets_low.groupby(['month']).mean()\n",
    "#tweets_month = tweets_month.sort_values(by = ['score'])\n",
    "tweets_month_low.reset_index(level=0, inplace=True)\n",
    "plt.plot(tweets_month_low['month'], tweets_month_low['score'].tolist())"
   ]
  },
  {
   "cell_type": "code",
   "execution_count": 218,
   "id": "f8f6cac1",
   "metadata": {},
   "outputs": [
    {
     "data": {
      "text/plain": [
       "[<matplotlib.lines.Line2D at 0x7ff0b3f44910>]"
      ]
     },
     "execution_count": 218,
     "metadata": {},
     "output_type": "execute_result"
    },
    {
     "data": {
      "image/png": "[encoded data removed]",
      "text/plain": [
       "<Figure size 432x288 with 1 Axes>"
      ]
     },
     "metadata": {
      "needs_background": "light"
     },
     "output_type": "display_data"
    }
   ],
   "source": [
    "plt.plot(tweets_month_low['month'], tweets_month_low['score'].tolist())\n",
    "plt.plot(tweets_month_high['month'], tweets_month_high['score'].tolist())"
   ]
  },
  {
   "cell_type": "code",
   "execution_count": 233,
   "id": "ffd708f8",
   "metadata": {},
   "outputs": [],
   "source": [
    "vaccs_month_avg = vaccs.groupby(['Date']).mean()['Admin_Per_100K'].tolist()\n"
   ]
  },
  {
   "cell_type": "code",
   "execution_count": 231,
   "id": "31f07431",
   "metadata": {},
   "outputs": [
    {
     "data": {
      "text/plain": [
       "[<matplotlib.lines.Line2D at 0x7ff0af9e73a0>]"
      ]
     },
     "execution_count": 231,
     "metadata": {},
     "output_type": "execute_result"
    },
    {
     "data": {
      "image/png": "[encoded data removed]",
      "text/plain": [
       "<Figure size 432x288 with 1 Axes>"
      ]
     },
     "metadata": {
      "needs_background": "light"
     },
     "output_type": "display_data"
    }
   ],
   "source": [
    "plt.plot(range(len(vaccs_month_avg)), vaccs_month_avg)\n",
    "## per staat per maand -+ gemiddelde vd maand "
   ]
  },
  {
   "cell_type": "code",
   "execution_count": 248,
   "id": "6ce21ab3",
   "metadata": {},
   "outputs": [],
   "source": [
    "differences = [] \n",
    "for i in range(len(dates)):\n",
    "    sum_vaccs = 0\n",
    "    last_sum = 0\n",
    "    df_date = vaccs.loc[vaccs['Date'] == dates[i]]\n",
    "    for state in high_states:\n",
    "        state_df = df_date.loc[df_date['Location'] == state]\n",
    "        sum_vaccs += float(state_df['Admin_Per_100K'])\n",
    "        increase = sum_vaccs - last_sum\n",
    "        last_sum = sum_vaccs\n",
    "    if i == 0:\n",
    "        differences.append((increase/5) - vaccs_month_avg[i])\n",
    "    else:\n",
    "        differences.append((increase/5) - vaccs_month_avg[i] + vaccs_month_avg[i-1])\n",
    "    \n",
    "        "
   ]
  },
  {
   "cell_type": "code",
   "execution_count": 250,
   "id": "efaac188",
   "metadata": {},
   "outputs": [
    {
     "name": "stdout",
     "output_type": "stream",
     "text": [
      "[-1021.4615384615386, -6014.200000000001, -8768.076923076924, -11820.999999999996, -11092.307692307695, -94.5384615384537, 6394.0, 10512.030769230769, 10024.90769230768, 11699.24615384615, 10121.175000000003, 10936.646875000006]\n"
     ]
    },
    {
     "data": {
      "text/plain": [
       "[<matplotlib.lines.Line2D at 0x7ff0b6d7fa60>]"
      ]
     },
     "execution_count": 250,
     "metadata": {},
     "output_type": "execute_result"
    },
    {
     "data": {
      "image/png": "[encoded data removed]",
      "text/plain": [
       "<Figure size 432x288 with 1 Axes>"
      ]
     },
     "metadata": {
      "needs_background": "light"
     },
     "output_type": "display_data"
    }
   ],
   "source": [
    "print(differences)\n",
    "plt.plot(range(len(differences)), differences)"
   ]
  },
  {
   "cell_type": "code",
   "execution_count": 236,
   "id": "9626649d",
   "metadata": {},
   "outputs": [
    {
     "data": {
      "text/plain": [
       "['01/01/2021',\n",
       " '02/01/2021',\n",
       " '03/01/2021',\n",
       " '04/01/2021',\n",
       " '05/01/2021',\n",
       " '06/01/2021',\n",
       " '07/01/2021',\n",
       " '08/01/2021',\n",
       " '09/01/2021',\n",
       " '10/01/2021',\n",
       " '11/01/2021',\n",
       " '12/01/2021']"
      ]
     },
     "execution_count": 236,
     "metadata": {},
     "output_type": "execute_result"
    }
   ],
   "source": [
    "dates"
   ]
  },
  {
   "cell_type": "code",
   "execution_count": null,
   "id": "c49104b5",
   "metadata": {},
   "outputs": [],
   "source": []
  }
 ],
 "metadata": {
  "kernelspec": {
   "display_name": "Python 3",
   "language": "python",
   "name": "python3"
  },
  "language_info": {
   "codemirror_mode": {
    "name": "ipython",
    "version": 3
   },
   "file_extension": ".py",
   "mimetype": "text/x-python",
   "name": "python",
   "nbconvert_exporter": "python",
   "pygments_lexer": "ipython3",
   "version": "3.8.8"
  }
 },
 "nbformat": 4,
 "nbformat_minor": 5
}
