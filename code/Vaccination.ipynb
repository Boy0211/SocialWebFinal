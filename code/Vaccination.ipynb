{
 "cells": [
  {
   "cell_type": "code",
   "execution_count": 196,
   "id": "38f2ebd5",
   "metadata": {},
   "outputs": [],
   "source": [
    "import numpy as np\n",
    "import pandas as pd"
   ]
  },
  {
   "cell_type": "code",
   "execution_count": 197,
   "id": "8ed2b23d",
   "metadata": {},
   "outputs": [],
   "source": [
    "us_set = pd.read_csv('/Users/romanpeerboom/Downloads/COVID-19_Vaccinations_in_the_United_States_Jurisdiction.csv')\n",
    "\n"
   ]
  },
  {
   "cell_type": "code",
   "execution_count": 198,
   "id": "30467238",
   "metadata": {},
   "outputs": [],
   "source": [
    "firstdates = ['01/01/2021','02/01/2021', '03/01/2021', '04/01/2021', '05/01/2021', '06/01/2021', '07/01/2021', '08/01/2021', '09/01/2021', '10/01/2021', '11/01/2021', '12/01/2021']\n",
    "dataset_first = us_set.loc[us_set['Date'].isin(firstdates)]\n",
    "\n",
    "##column 'Admin_Per_100K' gives the total registered vaccines given per 100k on the date"
   ]
  },
  {
   "cell_type": "code",
   "execution_count": 199,
   "id": "71154328",
   "metadata": {},
   "outputs": [],
   "source": [
    "first_uk = pd.read_excel('/Users/romanpeerboom/Documents/CS/Social Web/UK_vaccination_rates/COVID-19-monthly-announced-vaccinations-09-December-2021.xlsx', sheet_name = '1st Dose')\n",
    "second_uk = pd.read_excel('/Users/romanpeerboom/Documents/CS/Social Web/UK_vaccination_rates/COVID-19-monthly-announced-vaccinations-09-December-2021.xlsx', sheet_name = '2nd Dose')\n",
    "third_uk = pd.read_excel('/Users/romanpeerboom/Documents/CS/Social Web/UK_vaccination_rates/COVID-19-monthly-announced-vaccinations-09-December-2021.xlsx', sheet_name = '3rd Dose')\n",
    "\n",
    "\n"
   ]
  },
  {
   "cell_type": "code",
   "execution_count": 200,
   "id": "78bf9c63",
   "metadata": {},
   "outputs": [],
   "source": [
    "second_uk_edit = second_uk.drop('Date Of Vaccination', axis = 1, inplace = True)\n",
    "second_uk_edit = second_uk.drop('Unnamed: 1', axis = 1)\n",
    "third_uk_edit = third_uk.drop('Date Of Vaccination', axis = 1, inplace = True)\n",
    "third_uk_edit = third_uk.drop('Unnamed: 1', axis = 1)"
   ]
  },
  {
   "cell_type": "code",
   "execution_count": 201,
   "id": "1df646f4",
   "metadata": {},
   "outputs": [],
   "source": [
    "first_and_second_uk = first_uk.add(second_uk_edit).fillna(first_uk)\n",
    "all_uk = first_and_second_uk.add(third_uk_edit).fillna(first_and_second_uk)"
   ]
  },
  {
   "cell_type": "code",
   "execution_count": 202,
   "id": "a70f999f",
   "metadata": {},
   "outputs": [],
   "source": [
    "populations = {'East of England': 6269161, 'London': 9002488, 'Midlands': 10827512, 'North East and Yorkshire': 8207113, 'North West': 7367456, 'South East': 9217265, 'South West': 5659143, 'England5': 55980000}\n",
    "regions = [*populations]\n",
    "all_uk_per_100k = all_uk.copy()\n",
    "for i in range(len(regions)):\n",
    "    all_uk_per_100k[regions[i]] = all_uk[regions[i]].apply(lambda x: 100000 * (x/populations[regions[i]]))\n",
    "    \n",
    "    \n"
   ]
  },
  {
   "cell_type": "code",
   "execution_count": 203,
   "id": "45c564c9",
   "metadata": {},
   "outputs": [],
   "source": [
    "firstdates_uk = ['2021-01-01 00:00:00', '2021-02-01 00:00:00', '2021-03-01 00:00:00', '2021-04-01 00:00:00', '2021-05-01 00:00:00', '2021-06-01 00:00:00', '2021-07-01 00:00:00', '2021-08-01 00:00:00', '2021-09-01 00:00:00', '2021-10-01 00:00:00', '2021-11-01 00:00:00', '2021-11-30 00:00:00']\n",
    "all_uk_per_100k['Date Of Vaccination'] = all_uk_per_100k['Date Of Vaccination'].astype(str)\n",
    "all_uk_per_100k_first = all_uk_per_100k.loc[all_uk_per_100k['Date Of Vaccination'].isin(firstdates_uk)]\n",
    "\n"
   ]
  },
  {
   "cell_type": "code",
   "execution_count": null,
   "id": "c7027cc9",
   "metadata": {},
   "outputs": [],
   "source": [
    "\n"
   ]
  },
  {
   "cell_type": "code",
   "execution_count": 191,
   "id": "7f2e419a",
   "metadata": {},
   "outputs": [],
   "source": []
  },
  {
   "cell_type": "code",
   "execution_count": null,
   "id": "16204af1",
   "metadata": {},
   "outputs": [],
   "source": []
  },
  {
   "cell_type": "code",
   "execution_count": null,
   "id": "d18c4895",
   "metadata": {},
   "outputs": [],
   "source": []
  },
  {
   "cell_type": "code",
   "execution_count": null,
   "id": "c8f3a79e",
   "metadata": {},
   "outputs": [],
   "source": []
  }
 ],
 "metadata": {
  "kernelspec": {
   "display_name": "Python 3",
   "language": "python",
   "name": "python3"
  },
  "language_info": {
   "codemirror_mode": {
    "name": "ipython",
    "version": 3
   },
   "file_extension": ".py",
   "mimetype": "text/x-python",
   "name": "python",
   "nbconvert_exporter": "python",
   "pygments_lexer": "ipython3",
   "version": "3.8.8"
  }
 },
 "nbformat": 4,
 "nbformat_minor": 5
}
